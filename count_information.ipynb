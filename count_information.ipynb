{
 "cells": [
  {
   "cell_type": "code",
   "execution_count": 11,
   "metadata": {},
   "outputs": [
    {
     "name": "stdout",
     "output_type": "stream",
     "text": [
      "ordered cases in space from origin:\t[2, 2, 2, 1, 1, 1]reference information ratio:\t\t\t0.0derived information ratio:\t\t\t0.0ordered cases in space from origin:\t[1, 1, 1, 2, 2, 2]reference information ratio:\t\t\t1.0derived information ratio:\t\t\t1.0"
     ]
    }
   ],
   "source": [
    "using Test\n",
    "\n",
    "function get_verbose()\n",
    "    verbose::String = \"yes\"\n",
    "    return verbose\n",
    "end\n",
    "\n",
    "function count_information(vector::Vector{Int})\n",
    "    \n",
    "    α_ω_length::Int             = length(vector)\n",
    "    mu_length::Int              = (α_ω_length/2) - 1      # from beta to mu\n",
    "    minimum_claim_quantity::Int = (2^mu_length)-1\n",
    "    maximum_claim_quantity::Int = minimum_claim_quantity * 2^mu_length\n",
    "    \n",
    "    α::Int                      = popat!(vector,1)\n",
    "    ω::Int                      = popat!(vector,lastindex(vector))\n",
    "    \n",
    "    mu_rep::Array{Int}          = .==(α, vector)\n",
    "    nu_rep::Array{Int}          = .==(ω, reverse(vector))\n",
    "    \n",
    "    powers                      = reverse(collect([2^x for x in 0:(2*mu_length)-1]))\n",
    "    \n",
    "    alpha_claim::Int            = sum(.*(powers, mu_rep))\n",
    "    omega_claim::Int            = sum(.*(powers, nu_rep))\n",
    "    \n",
    "    alpha_ratio = (alpha_claim-minimum_claim_quantity)/(maximum_claim_quantity-minimum_claim_quantity)\n",
    "    omega_ratio = (omega_claim-minimum_claim_quantity)/(maximum_claim_quantity-minimum_claim_quantity)\n",
    "    \n",
    "    information_count = alpha_ratio * omega_ratio\n",
    "    \n",
    "    return information_count\n",
    "end\n",
    "\n",
    "function test_count_information()\n",
    "    references = [   [[1,2,2,2,1,1,1,2],     0.0],\n",
    "                     [[1,1,1,1,2,2,2,2],     1.0]]\n",
    "    \n",
    "    for ref in references\n",
    "        vector            = ref[1]\n",
    "        information_ref   = ref[2]\n",
    "        information_count = count_information(vector)\n",
    "        verbose = get_verbose()\n",
    "        if verbose == \"yes\"\n",
    "            print(\"ordered cases in space from origin:\\t\", vector)\n",
    "            print(\"reference information ratio:\\t\\t\\t\", information_ref)\n",
    "            print(\"derived information ratio:\\t\\t\\t\", information_count)\n",
    "        end\n",
    "        #@test information_count==information_ref\n",
    "    end\n",
    "end\n",
    "\n",
    "test_count_information()\n"
   ]
  },
  {
   "cell_type": "code",
   "execution_count": null,
   "metadata": {},
   "outputs": [],
   "source": []
  }
 ],
 "metadata": {
  "kernelspec": {
   "display_name": "Julia 1.6.0",
   "language": "julia",
   "name": "julia-1.6"
  },
  "language_info": {
   "file_extension": ".jl",
   "mimetype": "application/julia",
   "name": "julia",
   "version": "1.6.0"
  }
 },
 "nbformat": 4,
 "nbformat_minor": 4
}
